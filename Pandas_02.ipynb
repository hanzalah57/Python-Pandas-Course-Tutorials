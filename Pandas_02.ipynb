{
 "cells": [
  {
   "cell_type": "code",
   "execution_count": 1,
   "id": "ee84af71",
   "metadata": {},
   "outputs": [
    {
     "data": {
      "text/html": [
       "<div>\n",
       "<style scoped>\n",
       "    .dataframe tbody tr th:only-of-type {\n",
       "        vertical-align: middle;\n",
       "    }\n",
       "\n",
       "    .dataframe tbody tr th {\n",
       "        vertical-align: top;\n",
       "    }\n",
       "\n",
       "    .dataframe thead th {\n",
       "        text-align: right;\n",
       "    }\n",
       "</style>\n",
       "<table border=\"1\" class=\"dataframe\">\n",
       "  <thead>\n",
       "    <tr style=\"text-align: right;\">\n",
       "      <th></th>\n",
       "      <th>Unnamed: 0</th>\n",
       "      <th>State</th>\n",
       "      <th>Total_Expenses</th>\n",
       "      <th>Sales</th>\n",
       "      <th>Profit</th>\n",
       "      <th>Market</th>\n",
       "      <th>Trade</th>\n",
       "      <th>Product_Type</th>\n",
       "      <th>Inventory</th>\n",
       "      <th>Type</th>\n",
       "      <th>New_Column</th>\n",
       "    </tr>\n",
       "  </thead>\n",
       "  <tbody>\n",
       "    <tr>\n",
       "      <th>0</th>\n",
       "      <td>0</td>\n",
       "      <td>California</td>\n",
       "      <td>63.0</td>\n",
       "      <td>109.0</td>\n",
       "      <td>-131.0</td>\n",
       "      <td>West</td>\n",
       "      <td>40</td>\n",
       "      <td>Coffee</td>\n",
       "      <td>2947.0</td>\n",
       "      <td>Regular</td>\n",
       "      <td>172.0</td>\n",
       "    </tr>\n",
       "    <tr>\n",
       "      <th>1</th>\n",
       "      <td>1</td>\n",
       "      <td>California</td>\n",
       "      <td>55.0</td>\n",
       "      <td>201.0</td>\n",
       "      <td>88.0</td>\n",
       "      <td>West</td>\n",
       "      <td>24</td>\n",
       "      <td>Tea</td>\n",
       "      <td>659.0</td>\n",
       "      <td>Regular</td>\n",
       "      <td>256.0</td>\n",
       "    </tr>\n",
       "    <tr>\n",
       "      <th>2</th>\n",
       "      <td>2</td>\n",
       "      <td>California</td>\n",
       "      <td>700.0</td>\n",
       "      <td>289.0</td>\n",
       "      <td>25.0</td>\n",
       "      <td>West</td>\n",
       "      <td>109</td>\n",
       "      <td>Espresso</td>\n",
       "      <td>788.0</td>\n",
       "      <td>Regular</td>\n",
       "      <td>989.0</td>\n",
       "    </tr>\n",
       "    <tr>\n",
       "      <th>3</th>\n",
       "      <td>3</td>\n",
       "      <td>California</td>\n",
       "      <td>113.0</td>\n",
       "      <td>576.0</td>\n",
       "      <td>216.0</td>\n",
       "      <td>West</td>\n",
       "      <td>81</td>\n",
       "      <td>Espresso</td>\n",
       "      <td>1744.0</td>\n",
       "      <td>Decaf</td>\n",
       "      <td>689.0</td>\n",
       "    </tr>\n",
       "    <tr>\n",
       "      <th>4</th>\n",
       "      <td>4</td>\n",
       "      <td>California</td>\n",
       "      <td>37.0</td>\n",
       "      <td>247.0</td>\n",
       "      <td>148.0</td>\n",
       "      <td>West</td>\n",
       "      <td>26</td>\n",
       "      <td>Herbal Tea</td>\n",
       "      <td>809.0</td>\n",
       "      <td>Decaf</td>\n",
       "      <td>284.0</td>\n",
       "    </tr>\n",
       "    <tr>\n",
       "      <th>...</th>\n",
       "      <td>...</td>\n",
       "      <td>...</td>\n",
       "      <td>...</td>\n",
       "      <td>...</td>\n",
       "      <td>...</td>\n",
       "      <td>...</td>\n",
       "      <td>...</td>\n",
       "      <td>...</td>\n",
       "      <td>...</td>\n",
       "      <td>...</td>\n",
       "      <td>...</td>\n",
       "    </tr>\n",
       "    <tr>\n",
       "      <th>4224</th>\n",
       "      <td>4236</td>\n",
       "      <td>Wisconsin</td>\n",
       "      <td>34.0</td>\n",
       "      <td>90.0</td>\n",
       "      <td>20.0</td>\n",
       "      <td>Central</td>\n",
       "      <td>11</td>\n",
       "      <td>Tea</td>\n",
       "      <td>458.0</td>\n",
       "      <td>Regular</td>\n",
       "      <td>124.0</td>\n",
       "    </tr>\n",
       "    <tr>\n",
       "      <th>4225</th>\n",
       "      <td>4237</td>\n",
       "      <td>Wisconsin</td>\n",
       "      <td>36.0</td>\n",
       "      <td>113.0</td>\n",
       "      <td>31.0</td>\n",
       "      <td>Central</td>\n",
       "      <td>14</td>\n",
       "      <td>Tea</td>\n",
       "      <td>454.0</td>\n",
       "      <td>Regular</td>\n",
       "      <td>149.0</td>\n",
       "    </tr>\n",
       "    <tr>\n",
       "      <th>4226</th>\n",
       "      <td>4238</td>\n",
       "      <td>Wisconsin</td>\n",
       "      <td>86.0</td>\n",
       "      <td>150.0</td>\n",
       "      <td>1.0</td>\n",
       "      <td>Central</td>\n",
       "      <td>57</td>\n",
       "      <td>Tea</td>\n",
       "      <td>506.0</td>\n",
       "      <td>Regular</td>\n",
       "      <td>236.0</td>\n",
       "    </tr>\n",
       "    <tr>\n",
       "      <th>4227</th>\n",
       "      <td>4239</td>\n",
       "      <td>Wisconsin</td>\n",
       "      <td>79.0</td>\n",
       "      <td>131.0</td>\n",
       "      <td>-3.0</td>\n",
       "      <td>Central</td>\n",
       "      <td>49</td>\n",
       "      <td>Tea</td>\n",
       "      <td>627.0</td>\n",
       "      <td>Regular</td>\n",
       "      <td>210.0</td>\n",
       "    </tr>\n",
       "    <tr>\n",
       "      <th>4228</th>\n",
       "      <td>4240</td>\n",
       "      <td>Wisconsin</td>\n",
       "      <td>87.0</td>\n",
       "      <td>165.0</td>\n",
       "      <td>4.0</td>\n",
       "      <td>Central</td>\n",
       "      <td>58</td>\n",
       "      <td>Tea</td>\n",
       "      <td>513.0</td>\n",
       "      <td>Regular</td>\n",
       "      <td>252.0</td>\n",
       "    </tr>\n",
       "  </tbody>\n",
       "</table>\n",
       "<p>4229 rows × 11 columns</p>\n",
       "</div>"
      ],
      "text/plain": [
       "      Unnamed: 0       State  Total_Expenses  Sales  Profit   Market  Trade  \\\n",
       "0              0  California            63.0  109.0  -131.0     West     40   \n",
       "1              1  California            55.0  201.0    88.0     West     24   \n",
       "2              2  California           700.0  289.0    25.0     West    109   \n",
       "3              3  California           113.0  576.0   216.0     West     81   \n",
       "4              4  California            37.0  247.0   148.0     West     26   \n",
       "...          ...         ...             ...    ...     ...      ...    ...   \n",
       "4224        4236   Wisconsin            34.0   90.0    20.0  Central     11   \n",
       "4225        4237   Wisconsin            36.0  113.0    31.0  Central     14   \n",
       "4226        4238   Wisconsin            86.0  150.0     1.0  Central     57   \n",
       "4227        4239   Wisconsin            79.0  131.0    -3.0  Central     49   \n",
       "4228        4240   Wisconsin            87.0  165.0     4.0  Central     58   \n",
       "\n",
       "     Product_Type  Inventory     Type  New_Column  \n",
       "0          Coffee     2947.0  Regular       172.0  \n",
       "1             Tea      659.0  Regular       256.0  \n",
       "2        Espresso      788.0  Regular       989.0  \n",
       "3        Espresso     1744.0    Decaf       689.0  \n",
       "4      Herbal Tea      809.0    Decaf       284.0  \n",
       "...           ...        ...      ...         ...  \n",
       "4224          Tea      458.0  Regular       124.0  \n",
       "4225          Tea      454.0  Regular       149.0  \n",
       "4226          Tea      506.0  Regular       236.0  \n",
       "4227          Tea      627.0  Regular       210.0  \n",
       "4228          Tea      513.0  Regular       252.0  \n",
       "\n",
       "[4229 rows x 11 columns]"
      ]
     },
     "execution_count": 1,
     "metadata": {},
     "output_type": "execute_result"
    }
   ],
   "source": [
    "import pandas as pd \n",
    "data = pd.read_csv('New_sales.csv')\n",
    "data"
   ]
  },
  {
   "cell_type": "code",
   "execution_count": 3,
   "id": "1de24e1e",
   "metadata": {},
   "outputs": [
    {
     "data": {
      "text/plain": [
       "(4229, 11)"
      ]
     },
     "execution_count": 3,
     "metadata": {},
     "output_type": "execute_result"
    }
   ],
   "source": [
    "data.shape"
   ]
  },
  {
   "cell_type": "markdown",
   "id": "8f65175a",
   "metadata": {},
   "source": [
    "# Pandas Data Frames and series "
   ]
  },
  {
   "cell_type": "code",
   "execution_count": 4,
   "id": "3ff28459",
   "metadata": {},
   "outputs": [
    {
     "data": {
      "text/plain": [
       "pandas.core.frame.DataFrame"
      ]
     },
     "execution_count": 4,
     "metadata": {},
     "output_type": "execute_result"
    }
   ],
   "source": [
    "type(data)"
   ]
  },
  {
   "cell_type": "code",
   "execution_count": 6,
   "id": "30d208cf",
   "metadata": {},
   "outputs": [
    {
     "name": "stdout",
     "output_type": "stream",
     "text": [
      "<class 'pandas.core.frame.DataFrame'>\n",
      "RangeIndex: 4229 entries, 0 to 4228\n",
      "Data columns (total 11 columns):\n",
      " #   Column          Non-Null Count  Dtype  \n",
      "---  ------          --------------  -----  \n",
      " 0   Unnamed: 0      4229 non-null   int64  \n",
      " 1   State           4229 non-null   object \n",
      " 2   Total_Expenses  4229 non-null   float64\n",
      " 3   Sales           4229 non-null   float64\n",
      " 4   Profit          4229 non-null   float64\n",
      " 5   Market          4229 non-null   object \n",
      " 6   Trade           4229 non-null   int64  \n",
      " 7   Product_Type    4229 non-null   object \n",
      " 8   Inventory       4229 non-null   float64\n",
      " 9   Type            4229 non-null   object \n",
      " 10  New_Column      4229 non-null   float64\n",
      "dtypes: float64(5), int64(2), object(4)\n",
      "memory usage: 363.6+ KB\n"
     ]
    }
   ],
   "source": [
    "data.info()"
   ]
  },
  {
   "cell_type": "code",
   "execution_count": 7,
   "id": "48561bdf",
   "metadata": {},
   "outputs": [
    {
     "data": {
      "text/html": [
       "<div>\n",
       "<style scoped>\n",
       "    .dataframe tbody tr th:only-of-type {\n",
       "        vertical-align: middle;\n",
       "    }\n",
       "\n",
       "    .dataframe tbody tr th {\n",
       "        vertical-align: top;\n",
       "    }\n",
       "\n",
       "    .dataframe thead th {\n",
       "        text-align: right;\n",
       "    }\n",
       "</style>\n",
       "<table border=\"1\" class=\"dataframe\">\n",
       "  <thead>\n",
       "    <tr style=\"text-align: right;\">\n",
       "      <th></th>\n",
       "      <th>Unnamed: 0</th>\n",
       "      <th>Total_Expenses</th>\n",
       "      <th>Sales</th>\n",
       "      <th>Profit</th>\n",
       "      <th>Trade</th>\n",
       "      <th>Inventory</th>\n",
       "      <th>New_Column</th>\n",
       "    </tr>\n",
       "  </thead>\n",
       "  <tbody>\n",
       "    <tr>\n",
       "      <th>count</th>\n",
       "      <td>4229.000000</td>\n",
       "      <td>4229.000000</td>\n",
       "      <td>4229.000000</td>\n",
       "      <td>4229.000000</td>\n",
       "      <td>4229.000000</td>\n",
       "      <td>4229.000000</td>\n",
       "      <td>4229.000000</td>\n",
       "    </tr>\n",
       "    <tr>\n",
       "      <th>mean</th>\n",
       "      <td>2125.081343</td>\n",
       "      <td>54.102152</td>\n",
       "      <td>192.298416</td>\n",
       "      <td>60.765666</td>\n",
       "      <td>31.104280</td>\n",
       "      <td>747.253724</td>\n",
       "      <td>246.400568</td>\n",
       "    </tr>\n",
       "    <tr>\n",
       "      <th>std</th>\n",
       "      <td>1222.373708</td>\n",
       "      <td>33.746537</td>\n",
       "      <td>150.330235</td>\n",
       "      <td>101.348158</td>\n",
       "      <td>26.986835</td>\n",
       "      <td>660.544773</td>\n",
       "      <td>174.436784</td>\n",
       "    </tr>\n",
       "    <tr>\n",
       "      <th>min</th>\n",
       "      <td>0.000000</td>\n",
       "      <td>10.000000</td>\n",
       "      <td>17.000000</td>\n",
       "      <td>-638.000000</td>\n",
       "      <td>0.000000</td>\n",
       "      <td>-3534.000000</td>\n",
       "      <td>38.000000</td>\n",
       "    </tr>\n",
       "    <tr>\n",
       "      <th>25%</th>\n",
       "      <td>1069.000000</td>\n",
       "      <td>33.000000</td>\n",
       "      <td>100.000000</td>\n",
       "      <td>17.000000</td>\n",
       "      <td>13.000000</td>\n",
       "      <td>430.000000</td>\n",
       "      <td>138.000000</td>\n",
       "    </tr>\n",
       "    <tr>\n",
       "      <th>50%</th>\n",
       "      <td>2126.000000</td>\n",
       "      <td>46.000000</td>\n",
       "      <td>137.000000</td>\n",
       "      <td>40.000000</td>\n",
       "      <td>22.000000</td>\n",
       "      <td>619.000000</td>\n",
       "      <td>190.000000</td>\n",
       "    </tr>\n",
       "    <tr>\n",
       "      <th>75%</th>\n",
       "      <td>3183.000000</td>\n",
       "      <td>65.000000</td>\n",
       "      <td>230.000000</td>\n",
       "      <td>91.000000</td>\n",
       "      <td>39.000000</td>\n",
       "      <td>898.000000</td>\n",
       "      <td>285.000000</td>\n",
       "    </tr>\n",
       "    <tr>\n",
       "      <th>max</th>\n",
       "      <td>4240.000000</td>\n",
       "      <td>700.000000</td>\n",
       "      <td>912.000000</td>\n",
       "      <td>778.000000</td>\n",
       "      <td>156.000000</td>\n",
       "      <td>8252.000000</td>\n",
       "      <td>1090.000000</td>\n",
       "    </tr>\n",
       "  </tbody>\n",
       "</table>\n",
       "</div>"
      ],
      "text/plain": [
       "        Unnamed: 0  Total_Expenses        Sales       Profit        Trade  \\\n",
       "count  4229.000000     4229.000000  4229.000000  4229.000000  4229.000000   \n",
       "mean   2125.081343       54.102152   192.298416    60.765666    31.104280   \n",
       "std    1222.373708       33.746537   150.330235   101.348158    26.986835   \n",
       "min       0.000000       10.000000    17.000000  -638.000000     0.000000   \n",
       "25%    1069.000000       33.000000   100.000000    17.000000    13.000000   \n",
       "50%    2126.000000       46.000000   137.000000    40.000000    22.000000   \n",
       "75%    3183.000000       65.000000   230.000000    91.000000    39.000000   \n",
       "max    4240.000000      700.000000   912.000000   778.000000   156.000000   \n",
       "\n",
       "         Inventory   New_Column  \n",
       "count  4229.000000  4229.000000  \n",
       "mean    747.253724   246.400568  \n",
       "std     660.544773   174.436784  \n",
       "min   -3534.000000    38.000000  \n",
       "25%     430.000000   138.000000  \n",
       "50%     619.000000   190.000000  \n",
       "75%     898.000000   285.000000  \n",
       "max    8252.000000  1090.000000  "
      ]
     },
     "execution_count": 7,
     "metadata": {},
     "output_type": "execute_result"
    }
   ],
   "source": [
    "data.describe()"
   ]
  },
  {
   "cell_type": "markdown",
   "id": "d9bb9d2c",
   "metadata": {},
   "source": [
    "# Converting List into Dataframe "
   ]
  },
  {
   "cell_type": "code",
   "execution_count": 12,
   "id": "93740b2a",
   "metadata": {},
   "outputs": [
    {
     "data": {
      "text/plain": [
       "list"
      ]
     },
     "execution_count": 12,
     "metadata": {},
     "output_type": "execute_result"
    }
   ],
   "source": [
    "insects = ['Ants', 'Crickets', 'Bees', 'Grasshopper']\n",
    "columns = [\"Insects\"]\n",
    "type(insects)"
   ]
  },
  {
   "cell_type": "code",
   "execution_count": 14,
   "id": "44c53424",
   "metadata": {},
   "outputs": [
    {
     "data": {
      "text/html": [
       "<div>\n",
       "<style scoped>\n",
       "    .dataframe tbody tr th:only-of-type {\n",
       "        vertical-align: middle;\n",
       "    }\n",
       "\n",
       "    .dataframe tbody tr th {\n",
       "        vertical-align: top;\n",
       "    }\n",
       "\n",
       "    .dataframe thead th {\n",
       "        text-align: right;\n",
       "    }\n",
       "</style>\n",
       "<table border=\"1\" class=\"dataframe\">\n",
       "  <thead>\n",
       "    <tr style=\"text-align: right;\">\n",
       "      <th></th>\n",
       "      <th>Insects</th>\n",
       "    </tr>\n",
       "  </thead>\n",
       "  <tbody>\n",
       "    <tr>\n",
       "      <th>0</th>\n",
       "      <td>Ants</td>\n",
       "    </tr>\n",
       "    <tr>\n",
       "      <th>1</th>\n",
       "      <td>Crickets</td>\n",
       "    </tr>\n",
       "    <tr>\n",
       "      <th>2</th>\n",
       "      <td>Bees</td>\n",
       "    </tr>\n",
       "    <tr>\n",
       "      <th>3</th>\n",
       "      <td>Grasshopper</td>\n",
       "    </tr>\n",
       "  </tbody>\n",
       "</table>\n",
       "</div>"
      ],
      "text/plain": [
       "       Insects\n",
       "0         Ants\n",
       "1     Crickets\n",
       "2         Bees\n",
       "3  Grasshopper"
      ]
     },
     "execution_count": 14,
     "metadata": {},
     "output_type": "execute_result"
    }
   ],
   "source": [
    "data_insects = pd.DataFrame(insects, columns=columns)\n",
    "data_insects"
   ]
  },
  {
   "cell_type": "code",
   "execution_count": 15,
   "id": "07831ea2",
   "metadata": {},
   "outputs": [
    {
     "data": {
      "text/plain": [
       "pandas.core.frame.DataFrame"
      ]
     },
     "execution_count": 15,
     "metadata": {},
     "output_type": "execute_result"
    }
   ],
   "source": [
    "type(data_insects)"
   ]
  },
  {
   "cell_type": "code",
   "execution_count": 19,
   "id": "7beb10ba",
   "metadata": {},
   "outputs": [
    {
     "data": {
      "text/html": [
       "<div>\n",
       "<style scoped>\n",
       "    .dataframe tbody tr th:only-of-type {\n",
       "        vertical-align: middle;\n",
       "    }\n",
       "\n",
       "    .dataframe tbody tr th {\n",
       "        vertical-align: top;\n",
       "    }\n",
       "\n",
       "    .dataframe thead th {\n",
       "        text-align: right;\n",
       "    }\n",
       "</style>\n",
       "<table border=\"1\" class=\"dataframe\">\n",
       "  <thead>\n",
       "    <tr style=\"text-align: right;\">\n",
       "      <th></th>\n",
       "      <th>Mammals</th>\n",
       "      <th>Birds</th>\n",
       "      <th>Reptiles</th>\n",
       "      <th>Insects</th>\n",
       "    </tr>\n",
       "  </thead>\n",
       "  <tbody>\n",
       "    <tr>\n",
       "      <th>0</th>\n",
       "      <td>Cat</td>\n",
       "      <td>Crow</td>\n",
       "      <td>Crockodile</td>\n",
       "      <td>Ants</td>\n",
       "    </tr>\n",
       "    <tr>\n",
       "      <th>1</th>\n",
       "      <td>Dog</td>\n",
       "      <td>Sparrow</td>\n",
       "      <td>Lizard</td>\n",
       "      <td>Crickets</td>\n",
       "    </tr>\n",
       "    <tr>\n",
       "      <th>2</th>\n",
       "      <td>Sheep</td>\n",
       "      <td>Eagle</td>\n",
       "      <td>Snake</td>\n",
       "      <td>Bees</td>\n",
       "    </tr>\n",
       "  </tbody>\n",
       "</table>\n",
       "</div>"
      ],
      "text/plain": [
       "  Mammals    Birds    Reptiles   Insects\n",
       "0     Cat     Crow  Crockodile      Ants\n",
       "1     Dog  Sparrow      Lizard  Crickets\n",
       "2   Sheep    Eagle       Snake      Bees"
      ]
     },
     "execution_count": 19,
     "metadata": {},
     "output_type": "execute_result"
    }
   ],
   "source": [
    "animals = {'Mammals':['Cat','Dog','Sheep'],\n",
    "           'Birds':['Crow', 'Sparrow', 'Eagle'],\n",
    "           'Reptiles':['Crockodile', 'Lizard', 'Snake'],\n",
    "           'Insects': ['Ants', 'Crickets', 'Bees']}\n",
    "\n",
    "data_animals = pd.DataFrame(animals)\n",
    "\n",
    "data_animals"
   ]
  },
  {
   "cell_type": "code",
   "execution_count": 20,
   "id": "ba8c263b",
   "metadata": {},
   "outputs": [
    {
     "data": {
      "text/plain": [
       "0      Cat\n",
       "1      Dog\n",
       "2    Sheep\n",
       "Name: Mammals, dtype: object"
      ]
     },
     "execution_count": 20,
     "metadata": {},
     "output_type": "execute_result"
    }
   ],
   "source": [
    "data_animals['Mammals']"
   ]
  },
  {
   "cell_type": "code",
   "execution_count": 21,
   "id": "5e1919ba",
   "metadata": {},
   "outputs": [
    {
     "data": {
      "text/plain": [
       "0       Crow\n",
       "1    Sparrow\n",
       "2      Eagle\n",
       "Name: Birds, dtype: object"
      ]
     },
     "execution_count": 21,
     "metadata": {},
     "output_type": "execute_result"
    }
   ],
   "source": [
    "data_animals['Birds']"
   ]
  },
  {
   "cell_type": "code",
   "execution_count": 22,
   "id": "f44806a0",
   "metadata": {},
   "outputs": [
    {
     "data": {
      "text/plain": [
       "0    Crockodile\n",
       "1        Lizard\n",
       "2         Snake\n",
       "Name: Reptiles, dtype: object"
      ]
     },
     "execution_count": 22,
     "metadata": {},
     "output_type": "execute_result"
    }
   ],
   "source": [
    "data_animals.Reptiles"
   ]
  },
  {
   "cell_type": "code",
   "execution_count": 23,
   "id": "b15637be",
   "metadata": {},
   "outputs": [
    {
     "data": {
      "text/plain": [
       "pandas.core.series.Series"
      ]
     },
     "execution_count": 23,
     "metadata": {},
     "output_type": "execute_result"
    }
   ],
   "source": [
    "type(data_animals.Reptiles)"
   ]
  },
  {
   "cell_type": "code",
   "execution_count": 26,
   "id": "ece62be0",
   "metadata": {},
   "outputs": [
    {
     "data": {
      "text/plain": [
       "Mammals            Cat\n",
       "Birds             Crow\n",
       "Reptiles    Crockodile\n",
       "Insects           Ants\n",
       "Name: 0, dtype: object"
      ]
     },
     "execution_count": 26,
     "metadata": {},
     "output_type": "execute_result"
    }
   ],
   "source": [
    "data_animals.iloc[0]"
   ]
  },
  {
   "cell_type": "code",
   "execution_count": 27,
   "id": "3e8ca372",
   "metadata": {},
   "outputs": [
    {
     "data": {
      "text/plain": [
       "Mammals          Dog\n",
       "Birds        Sparrow\n",
       "Reptiles      Lizard\n",
       "Insects     Crickets\n",
       "Name: 1, dtype: object"
      ]
     },
     "execution_count": 27,
     "metadata": {},
     "output_type": "execute_result"
    }
   ],
   "source": [
    "data_animals.iloc[1]"
   ]
  },
  {
   "cell_type": "code",
   "execution_count": 28,
   "id": "e141841c",
   "metadata": {
    "scrolled": true
   },
   "outputs": [
    {
     "data": {
      "text/plain": [
       "pandas.core.series.Series"
      ]
     },
     "execution_count": 28,
     "metadata": {},
     "output_type": "execute_result"
    }
   ],
   "source": [
    "type(data_animals.iloc[1])"
   ]
  },
  {
   "cell_type": "code",
   "execution_count": 31,
   "id": "c11d48c1",
   "metadata": {},
   "outputs": [
    {
     "data": {
      "text/html": [
       "<div>\n",
       "<style scoped>\n",
       "    .dataframe tbody tr th:only-of-type {\n",
       "        vertical-align: middle;\n",
       "    }\n",
       "\n",
       "    .dataframe tbody tr th {\n",
       "        vertical-align: top;\n",
       "    }\n",
       "\n",
       "    .dataframe thead th {\n",
       "        text-align: right;\n",
       "    }\n",
       "</style>\n",
       "<table border=\"1\" class=\"dataframe\">\n",
       "  <thead>\n",
       "    <tr style=\"text-align: right;\">\n",
       "      <th></th>\n",
       "      <th>Mammals</th>\n",
       "      <th>Birds</th>\n",
       "      <th>Reptiles</th>\n",
       "      <th>Insects</th>\n",
       "    </tr>\n",
       "  </thead>\n",
       "  <tbody>\n",
       "    <tr>\n",
       "      <th>0</th>\n",
       "      <td>Cat</td>\n",
       "      <td>Crow</td>\n",
       "      <td>Crockodile</td>\n",
       "      <td>Ants</td>\n",
       "    </tr>\n",
       "    <tr>\n",
       "      <th>2</th>\n",
       "      <td>Sheep</td>\n",
       "      <td>Eagle</td>\n",
       "      <td>Snake</td>\n",
       "      <td>Bees</td>\n",
       "    </tr>\n",
       "  </tbody>\n",
       "</table>\n",
       "</div>"
      ],
      "text/plain": [
       "  Mammals  Birds    Reptiles Insects\n",
       "0     Cat   Crow  Crockodile    Ants\n",
       "2   Sheep  Eagle       Snake    Bees"
      ]
     },
     "execution_count": 31,
     "metadata": {},
     "output_type": "execute_result"
    }
   ],
   "source": [
    "data_animals.iloc[[0,2]]"
   ]
  }
 ],
 "metadata": {
  "kernelspec": {
   "display_name": "Python 3",
   "language": "python",
   "name": "python3"
  },
  "language_info": {
   "codemirror_mode": {
    "name": "ipython",
    "version": 3
   },
   "file_extension": ".py",
   "mimetype": "text/x-python",
   "name": "python",
   "nbconvert_exporter": "python",
   "pygments_lexer": "ipython3",
   "version": "3.8.8"
  }
 },
 "nbformat": 4,
 "nbformat_minor": 5
}
